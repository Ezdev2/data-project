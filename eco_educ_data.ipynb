{
 "cells": [
  {
   "cell_type": "code",
   "execution_count": null,
   "metadata": {
    "vscode": {
     "languageId": "plaintext"
    }
   },
   "outputs": [],
   "source": [
    "import pandas as pd\n",
    "import numpy as np\n",
    "\n",
    "## EDUCATION ##\n",
    "\n",
    "# Chemin relatif vers le fichier education.csv\n",
    "file_path = 'education-csv/education.csv'\n",
    "\n",
    "# Lire le fichier en ignorant les premières lignes\n",
    "df = pd.read_csv(file_path, skiprows=3)\n",
    "\n",
    "\n",
    "# Supprimer la colonne \"Indicator Code\" qui semble être inutile\n",
    "df.drop(columns=['Indicator Code'], inplace=True)\n",
    "\n",
    "# Remplacer les noms de colonnes longs par des noms plus courts\n",
    "new_columns = {\n",
    "    'Country Name': 'Country',\n",
    "    'Country Code': 'Code',\n",
    "    'Indicator Name': 'Indicator'\n",
    "}\n",
    "df.rename(columns=new_columns, inplace=True)\n",
    "\n",
    "# Remplacer les valeurs NaN par des chaînes vides\n",
    "df.replace(to_replace=np.nan, value='', inplace=True)\n",
    "\n",
    "# Filtrer les données pour obtenir celles spécifiques à Madagascar\n",
    "madagascar_edu = df[df['Country'] == 'Madagascar']\n",
    "\n",
    "\n",
    "## ECONOMY ##\n",
    "\n",
    "# Chemin relatif vers le fichier pib.csv\n",
    "file_path = 'economic-csv/pib.csv'\n",
    "\n",
    "# Lire le fichier en ignorant les premières lignes\n",
    "data = pd.read_csv(file_path, skiprows=3)\n",
    "\n",
    "\n",
    "# Supprimer la colonne \"Indicator Code\" qui semble être inutile\n",
    "data.drop(columns=['Indicator Code'], inplace=True)\n",
    "\n",
    "\n",
    "# Remplacer les noms de colonnes longs par des noms plus courts\n",
    "new_columns = {\n",
    "    'Country Name': 'Country',\n",
    "    'Country Code': 'Code',\n",
    "    'Indicator Name': 'Indicator'\n",
    "}\n",
    "data.rename(columns=new_columns, inplace=True)\n",
    "\n",
    "# Remplacer les valeurs NaN par des chaînes vides\n",
    "data.replace(to_replace=np.nan, value='', inplace=True)\n",
    "\n",
    "# Filtrer les données pour obtenir celles spécifiques à Madagascar\n",
    "madagascar_pib = data[data['Country'] == 'Madagascar']\n",
    "\n",
    "# Afficher les données spécifiques à Madagascar\n",
    "print(madagascar_edu)\n",
    "print(madagascar_pib)\n"
   ]
  }
 ],
 "metadata": {
  "kernelspec": {
   "display_name": "Python 3",
   "language": "python",
   "name": "python3"
  },
  "language_info": {
   "name": "python",
   "version": "3.9.13"
  },
  "orig_nbformat": 4
 },
 "nbformat": 4,
 "nbformat_minor": 2
}
