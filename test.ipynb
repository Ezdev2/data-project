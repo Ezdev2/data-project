{
 "cells": [
  {
   "cell_type": "markdown",
   "metadata": {},
   "source": [
    "Test pour le fichier"
   ]
  },
  {
   "cell_type": "code",
   "execution_count": null,
   "metadata": {},
   "outputs": [],
   "source": [
    "import pandas as pd\n",
    "import requests\n",
    "import datetime\n",
    "import boto3\n",
    "\n",
    "# Paramètres\n",
    "api_url = \"https://api.worldbank.org/v2/fr/country/all/indicator/NY.GDP.MKTP.KD.ZG?format=json&date=2010%3A2020\"\n",
    "aws_access_key = \"VOTRE_CLE_D'ACCES_AWS\"\n",
    "aws_secret_key = \"VOTRE_CLE_SECRETE_AWS\"\n",
    "s3_bucket_name = \"NOM_DE_VOTRE_BUCKET\"\n",
    "\n",
    "# Extraction et transformation des données\n",
    "def extract_transform_data(api_url):\n",
    "    response = requests.get(api_url)\n",
    "    data = response.json()[1]\n",
    "\n",
    "    data_list = []\n",
    "    for entry in data:\n",
    "        indicator = entry[\"indicator\"][\"value\"]\n",
    "        country = entry[\"country\"][\"value\"]\n",
    "        date = entry[\"date\"]\n",
    "        value = entry[\"value\"]\n",
    "        data_list.append({\"Indicator\": indicator, \"Country\": country, \"Date\": date, \"Value\": value})\n",
    "\n",
    "    df = pd.DataFrame(data_list)\n",
    "\n",
    "    # Convertir la colonne \"Date\" en format datetime\n",
    "    df[\"Date\"] = pd.to_datetime(df[\"Date\"])\n",
    "\n",
    "    # Ajouter une colonne pour l'année\n",
    "    df[\"Year\"] = df[\"Date\"].dt.year\n",
    "\n",
    "    # Filtrer les données pour les années 2010 à 2020\n",
    "    df = df[(df[\"Year\"] >= 2010) & (df[\"Year\"] <= 2020)]\n",
    "\n",
    "    # Pivotez les données pour avoir les années en colonnes\n",
    "    df_pivot = df.pivot(index=\"Country\", columns=\"Year\", values=\"Value\")\n",
    "    \n",
    "    # Remplacer les valeurs NaN par 0\n",
    "    df_pivot.fillna(0, inplace=True)\n",
    "    \n",
    "    # Calculer la moyenne de croissance sur la période 2010-2020\n",
    "    df_pivot[\"Average_Growth\"] = df_pivot.iloc[:, :-1].mean(axis=1)\n",
    "    \n",
    "    # Obtenir les pays avec la plus haute moyenne de croissance\n",
    "    top_countries = df_pivot.nlargest(10, \"Average_Growth\")\n",
    "    \n",
    "    return df_pivot, top_countries\n",
    "\n",
    "# Chargement des données dans AWS S3\n",
    "def load_to_s3(df, s3_bucket_name):\n",
    "    today = datetime.datetime.today().strftime('%Y_%m_%d')\n",
    "    file_name = f\"sujet_{today}.csv\"\n",
    "    s3 = boto3.client('s3', aws_access_key_id=aws_access_key, aws_secret_access_key=aws_secret_key)\n",
    "    csv_buffer = df.to_csv(index=True)\n",
    "\n",
    "    s3.upload_fileobj(pd.compat.StringIO(csv_buffer), s3_bucket_name, file_name)\n",
    "    print(f\"Data saved as {file_name} in {s3_bucket_name}\")\n",
    "\n",
    "if _name_ == \"_main_\":\n",
    "    data_df, top_countries_df = extract_transform_data(api_url)\n",
    "    load_to_s3(data_df, s3_bucket_name)\n",
    "    load_to_s3(top_countries_df, s3_bucket_name)"
   ]
  }
 ],
 "metadata": {
  "kernelspec": {
   "display_name": "Python 3",
   "language": "python",
   "name": "python3"
  },
  "language_info": {
   "name": "python",
   "version": "3.9.13"
  },
  "orig_nbformat": 4
 },
 "nbformat": 4,
 "nbformat_minor": 2
}
